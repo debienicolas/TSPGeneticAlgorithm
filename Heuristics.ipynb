{
 "cells": [
  {
   "cell_type": "code",
   "execution_count": 1,
   "metadata": {},
   "outputs": [],
   "source": [
    "import numpy as np\n"
   ]
  },
  {
   "cell_type": "code",
   "execution_count": 2,
   "metadata": {},
   "outputs": [],
   "source": [
    "\n",
    "filename = 'tour50.csv'\n",
    "distanceMatrix = np.loadtxt(open(filename, \"rb\"), delimiter=\",\")"
   ]
  },
  {
   "cell_type": "code",
   "execution_count": 22,
   "metadata": {},
   "outputs": [
    {
     "name": "stdout",
     "output_type": "stream",
     "text": [
      "inf\n",
      "inf\n",
      "24795.224141947856\n",
      "30108.763418678227\n",
      "inf\n",
      "inf\n",
      "inf\n",
      "24128.374112297824\n",
      "30122.936612883594\n",
      "24795.224141947856\n"
     ]
    }
   ],
   "source": [
    "### Nearest Neighbor Algorithm\n",
    "\n",
    "def nearestNeighbor(distanceMatrix):\n",
    "    # select random starting point in range of number of cities\n",
    "    start = np.random.randint(0, len(distanceMatrix))\n",
    "    # create set with all cities\n",
    "    unvisited = set(range(len(distanceMatrix)))\n",
    "    # remove starting point from set\n",
    "    unvisited.remove(start)\n",
    "\n",
    "\n",
    "    distanceCovered = 0\n",
    "    while unvisited:\n",
    "        # get the closest unvisited city\n",
    "        closest = min(unvisited, key=lambda city: distanceMatrix[start][city])\n",
    "        # add distance to distanceCovered\n",
    "        distanceCovered += distanceMatrix[start][closest]\n",
    "        # remove city from unvisited set\n",
    "        unvisited.remove(closest)\n",
    "        # set new start\n",
    "        start = closest\n",
    "\n",
    "    return distanceCovered\n",
    "\n",
    "\n",
    "for i in range(10):\n",
    "    print(nearestNeighbor(distanceMatrix))"
   ]
  }
 ],
 "metadata": {
  "kernelspec": {
   "display_name": "base",
   "language": "python",
   "name": "python3"
  },
  "language_info": {
   "codemirror_mode": {
    "name": "ipython",
    "version": 3
   },
   "file_extension": ".py",
   "mimetype": "text/x-python",
   "name": "python",
   "nbconvert_exporter": "python",
   "pygments_lexer": "ipython3",
   "version": "3.10.13"
  }
 },
 "nbformat": 4,
 "nbformat_minor": 2
}
