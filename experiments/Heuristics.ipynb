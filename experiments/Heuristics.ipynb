{
 "cells": [
  {
   "cell_type": "code",
   "execution_count": 9,
   "metadata": {},
   "outputs": [],
   "source": [
    "import numpy as np\n",
    "filename = 'Data/tour50.csv'\n",
    "distanceMatrix = np.loadtxt(open(filename, \"rb\"), delimiter=\",\")"
   ]
  },
  {
   "cell_type": "code",
   "execution_count": 10,
   "metadata": {},
   "outputs": [
    {
     "name": "stdout",
     "output_type": "stream",
     "text": [
      "39\n",
      "23342.147097373083\n"
     ]
    }
   ],
   "source": [
    "def nearestNeighbour(i,distanceMatrix):\n",
    "    N = len(distanceMatrix)\n",
    "    start = i\n",
    "    path = [start]\n",
    "    cost = 0\n",
    "    mask = np.ones(N, dtype=bool)\n",
    "\n",
    "    mask[start] = False\n",
    "    for i in range(N-1):\n",
    "        last = path[-1]\n",
    "        next_ind = np.argmin(distanceMatrix[last][mask]) \n",
    "        next_loc = np.arange(N)[mask][next_ind]\n",
    "        path.append(next_loc)\n",
    "        mask[next_loc] = False\n",
    "        cost += distanceMatrix[last, next_loc]\n",
    "    return path, cost\n",
    "\n",
    "\n",
    "dists = np.zeros(len(distanceMatrix))\n",
    "for i in range(len(distanceMatrix)):\n",
    "    path,cost = nearestNeighbour(i,distanceMatrix)\n",
    "    dists[i] = cost\n",
    "        \n",
    "\n",
    "print(np.argmin(dists))\n",
    "print(dists[np.argmin(dists)])\n"
   ]
  },
  {
   "cell_type": "code",
   "execution_count": 11,
   "metadata": {},
   "outputs": [
    {
     "name": "stdout",
     "output_type": "stream",
     "text": [
      "inf\n",
      "inf\n",
      "inf\n",
      "29472.008464512423\n",
      "inf\n",
      "inf\n",
      "inf\n",
      "inf\n",
      "inf\n",
      "inf\n"
     ]
    }
   ],
   "source": [
    "### Nearest Neighbor Algorithm\n",
    "\n",
    "def nearestNeighbor(distanceMatrix):\n",
    "    # select random starting point in range of number of cities\n",
    "    start = np.random.randint(0, len(distanceMatrix))\n",
    "    # create set with all cities\n",
    "    unvisited = set(range(len(distanceMatrix)))\n",
    "    # remove starting point from set\n",
    "    unvisited.remove(start)\n",
    "\n",
    "\n",
    "    distanceCovered = 0\n",
    "    while unvisited:\n",
    "        # get the closest unvisited city\n",
    "        closest = min(unvisited, key=lambda city: distanceMatrix[start][city])\n",
    "        # add distance to distanceCovered\n",
    "        distanceCovered += distanceMatrix[start][closest]\n",
    "        # remove city from unvisited set\n",
    "        unvisited.remove(closest)\n",
    "        # set new start\n",
    "        start = closest\n",
    "\n",
    "    return distanceCovered\n",
    "\n",
    "\n",
    "for i in range(10):\n",
    "    print(nearestNeighbor(distanceMatrix))"
   ]
  }
 ],
 "metadata": {
  "kernelspec": {
   "display_name": "base",
   "language": "python",
   "name": "python3"
  },
  "language_info": {
   "codemirror_mode": {
    "name": "ipython",
    "version": 3
   },
   "file_extension": ".py",
   "mimetype": "text/x-python",
   "name": "python",
   "nbconvert_exporter": "python",
   "pygments_lexer": "ipython3",
   "version": "3.10.13"
  }
 },
 "nbformat": 4,
 "nbformat_minor": 2
}
